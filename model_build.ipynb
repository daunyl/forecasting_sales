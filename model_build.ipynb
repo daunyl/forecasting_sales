{
 "cells": [
  {
   "cell_type": "code",
   "execution_count": 1,
   "id": "c11fa8cb-a6f0-4a94-9d15-759c783d56ce",
   "metadata": {
    "tags": []
   },
   "outputs": [],
   "source": [
    "import pandas as pd\n",
    "import numpy as np\n",
    "import matplotlib.pyplot as plt\n",
    "import seaborn as sns\n",
    "\n",
    "import datetime"
   ]
  },
  {
   "cell_type": "code",
   "execution_count": 2,
   "id": "08f3b86d-2e92-4022-945b-e82959a40cef",
   "metadata": {
    "tags": []
   },
   "outputs": [],
   "source": [
    "train_df = pd.read_csv('train.csv')\n",
    "test_df = pd.read_csv('test.csv')"
   ]
  },
  {
   "cell_type": "code",
   "execution_count": 122,
   "id": "374a8876-a2e4-4c80-8817-32da6b0ad951",
   "metadata": {
    "tags": []
   },
   "outputs": [],
   "source": [
    "df = train_df.copy()\n",
    "test = test_df.copy()"
   ]
  },
  {
   "cell_type": "code",
   "execution_count": 123,
   "id": "44b01c19-6a6f-4249-85d5-cb09291b62f9",
   "metadata": {
    "tags": []
   },
   "outputs": [],
   "source": [
    "# Date to datetime\n",
    "df['date'] = pd.to_datetime(df['date'])\n",
    "test['date'] = pd.to_datetime(test['date'])"
   ]
  },
  {
   "cell_type": "code",
   "execution_count": 124,
   "id": "3da79666-d79f-4a83-9808-627da2bb2776",
   "metadata": {
    "tags": []
   },
   "outputs": [],
   "source": [
    "df = pd.concat([df,pd.get_dummies(df[['country','store','product']])],axis=1)\n",
    "test = pd.concat([test,pd.get_dummies(test[['country','store','product']])],axis=1)"
   ]
  },
  {
   "cell_type": "code",
   "execution_count": 125,
   "id": "b236e844-e1f7-439d-9f95-f6879dbf2b86",
   "metadata": {
    "tags": []
   },
   "outputs": [
    {
     "name": "stderr",
     "output_type": "stream",
     "text": [
      "c:\\users\\danil\\appdata\\local\\programs\\python\\python37\\lib\\site-packages\\ipykernel_launcher.py:9: FutureWarning: Series.dt.weekofyear and Series.dt.week have been deprecated.  Please use Series.dt.isocalendar().week instead.\n",
      "  if __name__ == \"__main__\":\n"
     ]
    }
   ],
   "source": [
    "def add_date_features(data):\n",
    "    data = data.copy()\n",
    "    data['month'] = data['date'].dt.month\n",
    "    data['day'] = data['date'].dt.day\n",
    "    data['year'] = data['date'].dt.year\n",
    "    data['dayofweek'] = data['date'].dt.dayofweek\n",
    "    data['quarter'] = data['date'].dt.quarter\n",
    "    data['dayofmonth'] = data['date'].dt.day\n",
    "    data['weekofyear'] = data['date'].dt.weekofyear\n",
    "    data['is_month_start'] = data.date.dt.is_month_start.astype(np.int8)\n",
    "    data['is_month_end'] = data.date.dt.is_month_end.astype(np.int8)\n",
    "    data['monday'] = data.date.dt.weekday.eq(0).astype(np.uint8)\n",
    "    data['tuesday'] = data.date.dt.weekday.eq(1).astype(np.uint8)\n",
    "    data['wednesday'] = data.date.dt.weekday.eq(2).astype(np.uint8)\n",
    "    data['thursday'] = data.date.dt.weekday.eq(3).astype(np.uint8)\n",
    "    data['friday'] = data.date.dt.weekday.eq(4).astype(np.uint8)\n",
    "    data['saturday'] = data.date.dt.weekday.eq(5).astype(np.uint8)\n",
    "    data['sunday'] = data.date.dt.weekday.eq(6).astype(np.uint8)\n",
    "    data['is_quarter_end'] = data['date'].dt.is_quarter_end\n",
    "    data['is_quarter_start'] = data['date'].dt.is_quarter_start\n",
    "    data['is_year_end'] = data['date'].dt.is_year_end\n",
    "    data['is_year_start'] = data['date'].dt.is_year_start\n",
    "    \n",
    "    return data\n",
    "\n",
    "df = add_date_features(df)\n",
    "test = add_date_features(test)"
   ]
  },
  {
   "cell_type": "markdown",
   "id": "fa251aee-141f-46bd-9b81-66c9b45697e6",
   "metadata": {
    "tags": []
   },
   "source": [
    "numeric_features = list(df.select_dtypes(include=['int64','uint8']).columns) + ['date']\n",
    "categorical_features = list(df.select_dtypes(['object','bool']).columns)"
   ]
  },
  {
   "cell_type": "markdown",
   "id": "99c68af2-eccb-45d9-aef2-63074187fdf0",
   "metadata": {
    "tags": []
   },
   "source": [
    "from sklearn.preprocessing import LabelEncoder\n",
    "\n",
    "ohe = LabelEncoder()\n",
    "\n",
    "for i in range(len(categorical_features)):\n",
    "    ohe.fit(df[categorical_features[i]])\n",
    "    df.loc[:,categorical_features[i]] = ohe.transform(df[categorical_features[i]])\n",
    "    test.loc[:,categorical_features[i]] = ohe.transform(test[categorical_features[i]])"
   ]
  },
  {
   "cell_type": "code",
   "execution_count": 127,
   "id": "8f13c9b1-7f99-4f32-8834-ef38e97f3892",
   "metadata": {
    "tags": []
   },
   "outputs": [],
   "source": [
    "def math_features(data):\n",
    "    data = data.copy()\n",
    "    data['month_sin'] = np.sin(2*np.pi*data.month/12)\n",
    "    data['month_cos'] = np.cos(2*np.pi*data.month/12)\n",
    "    data['day_sin'] = np.sin(2*np.pi*data.day/24)\n",
    "    data['day_cos'] = np.cos(2*np.pi*data.day/24)\n",
    "    return data\n",
    "\n",
    "df = math_features(df)\n",
    "test = math_features(test)"
   ]
  },
  {
   "cell_type": "code",
   "execution_count": 128,
   "id": "3c106c80-a08a-4e55-826b-8b139714b3e0",
   "metadata": {
    "tags": []
   },
   "outputs": [
    {
     "data": {
      "text/html": [
       "<div>\n",
       "<style scoped>\n",
       "    .dataframe tbody tr th:only-of-type {\n",
       "        vertical-align: middle;\n",
       "    }\n",
       "\n",
       "    .dataframe tbody tr th {\n",
       "        vertical-align: top;\n",
       "    }\n",
       "\n",
       "    .dataframe thead th {\n",
       "        text-align: right;\n",
       "    }\n",
       "</style>\n",
       "<table border=\"1\" class=\"dataframe\">\n",
       "  <thead>\n",
       "    <tr style=\"text-align: right;\">\n",
       "      <th></th>\n",
       "      <th>id</th>\n",
       "      <th>date</th>\n",
       "      <th>country</th>\n",
       "      <th>store</th>\n",
       "      <th>product</th>\n",
       "      <th>num_sold</th>\n",
       "      <th>country_Argentina</th>\n",
       "      <th>country_Canada</th>\n",
       "      <th>country_Estonia</th>\n",
       "      <th>country_Japan</th>\n",
       "      <th>...</th>\n",
       "      <th>saturday</th>\n",
       "      <th>sunday</th>\n",
       "      <th>is_quarter_end</th>\n",
       "      <th>is_quarter_start</th>\n",
       "      <th>is_year_end</th>\n",
       "      <th>is_year_start</th>\n",
       "      <th>month_sin</th>\n",
       "      <th>month_cos</th>\n",
       "      <th>day_sin</th>\n",
       "      <th>day_cos</th>\n",
       "    </tr>\n",
       "  </thead>\n",
       "  <tbody>\n",
       "    <tr>\n",
       "      <th>0</th>\n",
       "      <td>0</td>\n",
       "      <td>2017-01-01</td>\n",
       "      <td>Argentina</td>\n",
       "      <td>Kaggle Learn</td>\n",
       "      <td>Using LLMs to Improve Your Coding</td>\n",
       "      <td>63</td>\n",
       "      <td>1</td>\n",
       "      <td>0</td>\n",
       "      <td>0</td>\n",
       "      <td>0</td>\n",
       "      <td>...</td>\n",
       "      <td>0</td>\n",
       "      <td>1</td>\n",
       "      <td>False</td>\n",
       "      <td>True</td>\n",
       "      <td>False</td>\n",
       "      <td>True</td>\n",
       "      <td>0.5</td>\n",
       "      <td>0.866025</td>\n",
       "      <td>0.258819</td>\n",
       "      <td>0.965926</td>\n",
       "    </tr>\n",
       "    <tr>\n",
       "      <th>1</th>\n",
       "      <td>1</td>\n",
       "      <td>2017-01-01</td>\n",
       "      <td>Argentina</td>\n",
       "      <td>Kaggle Learn</td>\n",
       "      <td>Using LLMs to Train More LLMs</td>\n",
       "      <td>66</td>\n",
       "      <td>1</td>\n",
       "      <td>0</td>\n",
       "      <td>0</td>\n",
       "      <td>0</td>\n",
       "      <td>...</td>\n",
       "      <td>0</td>\n",
       "      <td>1</td>\n",
       "      <td>False</td>\n",
       "      <td>True</td>\n",
       "      <td>False</td>\n",
       "      <td>True</td>\n",
       "      <td>0.5</td>\n",
       "      <td>0.866025</td>\n",
       "      <td>0.258819</td>\n",
       "      <td>0.965926</td>\n",
       "    </tr>\n",
       "  </tbody>\n",
       "</table>\n",
       "<p>2 rows × 43 columns</p>\n",
       "</div>"
      ],
      "text/plain": [
       "   id       date    country         store                            product  \\\n",
       "0   0 2017-01-01  Argentina  Kaggle Learn  Using LLMs to Improve Your Coding   \n",
       "1   1 2017-01-01  Argentina  Kaggle Learn      Using LLMs to Train More LLMs   \n",
       "\n",
       "   num_sold  country_Argentina  country_Canada  country_Estonia  \\\n",
       "0        63                  1               0                0   \n",
       "1        66                  1               0                0   \n",
       "\n",
       "   country_Japan  ...  saturday  sunday  is_quarter_end  is_quarter_start  \\\n",
       "0              0  ...         0       1           False              True   \n",
       "1              0  ...         0       1           False              True   \n",
       "\n",
       "   is_year_end  is_year_start  month_sin  month_cos   day_sin   day_cos  \n",
       "0        False           True        0.5   0.866025  0.258819  0.965926  \n",
       "1        False           True        0.5   0.866025  0.258819  0.965926  \n",
       "\n",
       "[2 rows x 43 columns]"
      ]
     },
     "execution_count": 128,
     "metadata": {},
     "output_type": "execute_result"
    }
   ],
   "source": [
    "df.head(2)"
   ]
  },
  {
   "cell_type": "code",
   "execution_count": 129,
   "id": "a5eef771-159d-414d-8f44-1e7d90bbf8d4",
   "metadata": {
    "tags": []
   },
   "outputs": [],
   "source": [
    "from sklearn.preprocessing import SplineTransformer"
   ]
  },
  {
   "cell_type": "code",
   "execution_count": 130,
   "id": "97d2e8b6-f51f-4fa1-b06e-9bcd13d6b07c",
   "metadata": {
    "tags": []
   },
   "outputs": [],
   "source": [
    "def periodic_spline_transformer(period, n_splines=None, degree=3):\n",
    "    \"\"\"\n",
    "    Kaynak: https://scikit-learn.org/stable/auto_examples/applications/plot_cyclical_feature_engineering.html\n",
    "    \"\"\"\n",
    "    \n",
    "    if n_splines is None:\n",
    "        n_splines = period\n",
    "    n_knots = n_splines + 1  # periodic and include_bias is True\n",
    "    return SplineTransformer(\n",
    "        degree=degree,\n",
    "        n_knots=n_knots,\n",
    "        knots=np.linspace(0, period, n_knots).reshape(n_knots, 1),\n",
    "        extrapolation=\"periodic\",\n",
    "        include_bias=True)"
   ]
  },
  {
   "cell_type": "code",
   "execution_count": 131,
   "id": "f9b93105-7af9-440c-984b-7f388b140dbe",
   "metadata": {
    "tags": []
   },
   "outputs": [],
   "source": [
    "def seasonality_spline_features(hours=np.arange(1,32)):\n",
    "    hour_df = pd.DataFrame(np.linspace(1, 32, 32).reshape(-1, 1),columns=[\"day\"])\n",
    "    splines = periodic_spline_transformer(32, n_splines=4).fit_transform(hour_df)\n",
    "    splines_df = pd.DataFrame(splines,columns=[f\"spline_{i}\" for i in range(splines.shape[1])])\n",
    "    splines_df =pd.concat([pd.Series(hours,name='day'), splines_df], axis=\"columns\")\n",
    "    \n",
    "    return splines_df"
   ]
  },
  {
   "cell_type": "code",
   "execution_count": 132,
   "id": "575484d1-f1c1-4170-a443-5170c45c7701",
   "metadata": {
    "tags": []
   },
   "outputs": [],
   "source": [
    "splines_df = seasonality_spline_features()"
   ]
  },
  {
   "cell_type": "code",
   "execution_count": 133,
   "id": "026e5bf9-43dd-431a-9b29-dfaad6b0b2f1",
   "metadata": {
    "tags": []
   },
   "outputs": [],
   "source": [
    "df[\"type\"]=\"train\"\n",
    "test[\"type\"]=\"test\"\n",
    "\n",
    "df = pd.concat([df,test])"
   ]
  },
  {
   "cell_type": "code",
   "execution_count": 134,
   "id": "20a10ab1-7b94-4119-862c-05bed1fcb621",
   "metadata": {
    "tags": []
   },
   "outputs": [],
   "source": [
    "df = df.merge(splines_df,on='day',how='left')\n",
    "\n",
    "train = df[df[\"type\"]==\"train\"].copy()\n",
    "test = df[df[\"type\"]==\"test\"].copy()\n",
    "train.drop(columns=[\"type\"],inplace=True)\n",
    "test.drop(columns=[\"type\"],inplace=True)"
   ]
  },
  {
   "cell_type": "code",
   "execution_count": 135,
   "id": "1943d83d-cc55-4872-8e0d-467dcab4d896",
   "metadata": {
    "tags": []
   },
   "outputs": [],
   "source": [
    "col=['id','country','date','store','product','num_sold']\n",
    "X=train.drop(columns=col)\n",
    "y=train['num_sold']"
   ]
  },
  {
   "cell_type": "code",
   "execution_count": 136,
   "id": "b822791b-530d-4747-82d5-c0d2fb74097e",
   "metadata": {
    "tags": []
   },
   "outputs": [
    {
     "name": "stdout",
     "output_type": "stream",
     "text": [
      "(27390, 41)\n",
      "(54780, 41)\n",
      "(82170, 41)\n",
      "(109560, 41)\n"
     ]
    }
   ],
   "source": [
    "from sklearn.model_selection import TimeSeriesSplit\n",
    "from sklearn.utils import shuffle\n",
    "\n",
    "tscv = TimeSeriesSplit(n_splits=4)\n",
    "scores = []\n",
    "test_preds_res=[]\n",
    "test_preds = np.zeros(len(test))\n",
    "for fold,(train_index, test_index) in enumerate(tscv.split(X,y)):\n",
    "    X_train, X_test = X.iloc[train_index], X.iloc[test_index]\n",
    "    y_train, y_test = y.iloc[train_index], y.iloc[test_index]\n",
    "    print(X_train.shape)"
   ]
  },
  {
   "cell_type": "code",
   "execution_count": 137,
   "id": "a0f59191-62a6-4634-aa51-0c511fb7a67e",
   "metadata": {
    "tags": []
   },
   "outputs": [],
   "source": [
    "from sklearn.naive_bayes import GaussianNB\n",
    "from sklearn.preprocessing import QuantileTransformer, PolynomialFeatures"
   ]
  },
  {
   "cell_type": "code",
   "execution_count": 147,
   "id": "5b7f4396-a6f0-49b9-850d-1f0c18c4c896",
   "metadata": {
    "tags": []
   },
   "outputs": [],
   "source": [
    "# Pipeline\n",
    "from sklearn.pipeline import Pipeline\n",
    "from catboost import CatBoostRegressor\n",
    "# metrics\n",
    "from sklearn.metrics import mean_squared_error\n",
    "params={'n_estimators': 195, 'learning_rate': 0.07725732658711602, 'depth': 7,\n",
    "        'l2_leaf_reg': 8.601133541582584, 'subsample': 0.4279526734063217, 'colsample_bylevel': 0.6767696482697301,\n",
    "       \"random_state\":42}\n",
    "model = CatBoostRegressor(**params, verbose=0)\n",
    "# model = GaussianNB()\n",
    "\n",
    "pre = QuantileTransformer(output_distribution='normal',n_quantiles=2000)\n",
    "pol = PolynomialFeatures()\n",
    "steps = [] # Create a list of tuples with the steps\n",
    "# steps.append(('pol',pol))\n",
    "\n",
    "steps.append(('model',model))\n",
    "pipeline = Pipeline(steps=steps)"
   ]
  },
  {
   "cell_type": "code",
   "execution_count": 139,
   "id": "f9aba72e-eeb1-4e16-a7f3-7e03ec06cd4f",
   "metadata": {
    "tags": []
   },
   "outputs": [],
   "source": [
    "test = test.drop(col,axis=1)"
   ]
  },
  {
   "cell_type": "code",
   "execution_count": 148,
   "id": "bf224913-4362-4900-96d2-5c750fdd0a66",
   "metadata": {
    "tags": []
   },
   "outputs": [],
   "source": [
    "import random\n",
    "\n",
    "n_reapts = 3\n",
    "n_splits = 5\n",
    "# Fix seed\n",
    "random.seed(42)\n",
    "random_state_list = random.sample(range(9999), n_reapts)\n",
    "\n",
    "from sklearn.metrics import make_scorer\n",
    "\n",
    "# SMAPE metric\n",
    "def smape(y_true, y_pred):\n",
    "    return 1 / len(y_true) * np.sum(2 * np.abs(y_pred - y_true) / (np.abs(y_pred) + np.abs(y_true)) * 100)\n",
    "\n",
    "smape_scorer = make_scorer(smape, greater_is_better=False)"
   ]
  },
  {
   "cell_type": "code",
   "execution_count": 149,
   "id": "838469d0-13ff-47e4-a885-bfc0b55981ec",
   "metadata": {
    "tags": []
   },
   "outputs": [],
   "source": [
    "from catboost import CatBoostRegressor\n",
    "from sklearn.linear_model import LinearRegression, Ridge\n",
    "from xgboost import XGBRegressor\n",
    "import xgboost as xgb\n",
    "from sklearn import neighbors\n",
    "from sklearn.ensemble import RandomForestRegressor\n",
    "\n",
    "import time\n",
    "from sklearn.utils import shuffle\n",
    "from sklearn.metrics import mean_squared_error, r2_score, mean_absolute_error"
   ]
  },
  {
   "cell_type": "code",
   "execution_count": 150,
   "id": "56bb7b1f-c460-40db-93c5-e50f2187b837",
   "metadata": {
    "tags": []
   },
   "outputs": [
    {
     "name": "stdout",
     "output_type": "stream",
     "text": [
      "State 1 Fold 1: SMAPE = 49.668304070873155\n",
      "State 1 Fold 1: MSE = 18364.561162371174\n",
      "State 1 Fold 2: SMAPE = 18.402655719559643\n",
      "State 1 Fold 2: MSE = 1900.920819453771\n",
      "State 1 Fold 3: SMAPE = 10.760621786804116\n",
      "State 1 Fold 3: MSE = 1020.1256490405457\n",
      "State 1 Fold 4: SMAPE = 11.29648826892228\n",
      "State 1 Fold 4: MSE = 1145.3446958215625\n",
      "State 1 Fold 5: SMAPE = 21.453194974732522\n",
      "State 1 Fold 5: MSE = 2787.703871202618\n",
      "SMAPE = 22.31625296417834\n",
      "MSE = 5043.7312395779345\n",
      "State 2 Fold 1: SMAPE = 49.91884738230083\n",
      "State 2 Fold 1: MSE = 18398.12585981271\n",
      "State 2 Fold 2: SMAPE = 17.831363472425735\n",
      "State 2 Fold 2: MSE = 1885.5185671090546\n",
      "State 2 Fold 3: SMAPE = 10.742462632782754\n",
      "State 2 Fold 3: MSE = 1021.8427614406595\n",
      "State 2 Fold 4: SMAPE = 11.49438170446243\n",
      "State 2 Fold 4: MSE = 1142.0335572695187\n",
      "State 2 Fold 5: SMAPE = 21.480016381736807\n",
      "State 2 Fold 5: MSE = 2787.6347958605534\n",
      "SMAPE = 22.304833639460025\n",
      "MSE = 5045.381173938216\n",
      "State 3 Fold 1: SMAPE = 49.91522196883682\n",
      "State 3 Fold 1: MSE = 18430.18659052508\n",
      "State 3 Fold 2: SMAPE = 18.613242233249377\n",
      "State 3 Fold 2: MSE = 1927.8254056614367\n",
      "State 3 Fold 3: SMAPE = 10.6848358439493\n",
      "State 3 Fold 3: MSE = 1014.6104918725018\n",
      "State 3 Fold 4: SMAPE = 11.464110429162494\n",
      "State 3 Fold 4: MSE = 1134.9912372519555\n",
      "State 3 Fold 5: SMAPE = 21.423040170868838\n",
      "State 3 Fold 5: MSE = 2791.514775690764\n",
      "SMAPE = 22.343252469377806\n",
      "MSE = 5050.196016025595\n"
     ]
    }
   ],
   "source": [
    "# TimeSeriesSplit using cross-validation\n",
    "\n",
    "scores_smape = []\n",
    "scores_mse = []\n",
    "test_preds = np.zeros(len(test))\n",
    "\n",
    "for state, random_state in enumerate(random_state_list):\n",
    "    tscv = TimeSeriesSplit(n_splits=n_splits,test_size=27375,max_train_size=82200, gap=0)\n",
    "    for fold, (train_index, val_index) in enumerate(tscv.split(X, y)):\n",
    "#     for fold,(train_index, test_index) in enumerate(tscv.split(X,y)):\n",
    "        X_train, X_test = X.iloc[train_index], X.iloc[test_index]\n",
    "        y_train, y_test = y.iloc[train_index], y.iloc[test_index]\n",
    "        \n",
    "        # Pipeline fit\n",
    "        X_train,y_train = shuffle(X_train,y_train, random_state=random_state)\n",
    "        X_test,y_test = shuffle(X_test,y_test, random_state=random_state)\n",
    "        pipeline.fit(X_train, y_train)\n",
    "\n",
    "        y_pred = pipeline.predict(X_test)\n",
    "\n",
    "        # SMAPE score\n",
    "        score_smape = smape(y_test, y_pred)\n",
    "        score_mse = mean_squared_error(y_test, y_pred)\n",
    "        scores_smape.append(score_smape)\n",
    "        scores_mse.append(score_mse)\n",
    "        print(f\"State {state+1} Fold {fold+1}: SMAPE = {score_smape}\")\n",
    "        print(f\"State {state+1} Fold {fold+1}: MSE = {score_mse}\")\n",
    "    \n",
    "        fold_preds = pipeline.predict(test)\n",
    "    \n",
    "        test_preds += fold_preds\n",
    "    # Mean SMAPE score\n",
    "    mean_smape_score = np.mean(scores_smape)\n",
    "    mean_mse_score = np.mean(scores_mse)\n",
    "    print(\"SMAPE =\", mean_smape_score)\n",
    "    print(\"MSE =\", mean_mse_score)"
   ]
  },
  {
   "cell_type": "code",
   "execution_count": 151,
   "id": "37c26463-1747-4bfa-babd-1b1f62998181",
   "metadata": {
    "tags": []
   },
   "outputs": [
    {
     "data": {
      "text/plain": [
       "array([ 62.12602359,  64.25752772,  12.00346325, ..., 150.06719824,\n",
       "       795.9684231 , 649.37743967])"
      ]
     },
     "execution_count": 151,
     "metadata": {},
     "output_type": "execute_result"
    }
   ],
   "source": [
    "test_preds/12"
   ]
  },
  {
   "cell_type": "code",
   "execution_count": 152,
   "id": "c31e03c7-2a79-430e-b9d4-f48956d5e210",
   "metadata": {
    "tags": []
   },
   "outputs": [],
   "source": [
    "submission = pd.DataFrame(test_df['id'].copy())\n",
    "y_pred=test_preds/12\n",
    "y_pred = y_pred.astype(int)\n",
    "y_pred = np.where(y_pred < 0, 1, y_pred)\n",
    "submission[\"num_sold\"] = y_pred\n",
    "\n",
    "submission.to_csv(\"submission_CatBoost_11.csv\",index=False)"
   ]
  }
 ],
 "metadata": {
  "kernelspec": {
   "display_name": "Python 3 (ipykernel)",
   "language": "python",
   "name": "python3"
  },
  "language_info": {
   "codemirror_mode": {
    "name": "ipython",
    "version": 3
   },
   "file_extension": ".py",
   "mimetype": "text/x-python",
   "name": "python",
   "nbconvert_exporter": "python",
   "pygments_lexer": "ipython3",
   "version": "3.7.7"
  }
 },
 "nbformat": 4,
 "nbformat_minor": 5
}
